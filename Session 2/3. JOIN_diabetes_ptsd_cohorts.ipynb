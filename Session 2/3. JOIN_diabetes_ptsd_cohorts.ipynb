{
 "cells": [
  {
   "cell_type": "markdown",
   "metadata": {},
   "source": [
    "# Notebook File Overview\n",
    "\n",
    "In this notebook, we will be importing the data frames we created in the first two notebooks:\n",
    "1. diabetes_control_ptsd.csv\n",
    "2. diabetes_study_ptsd.csv\n",
    "\n",
    "We will use the code snippet provided by *All of Us* to import our data frames from the workspace bucket (looks similar to the snippet used to save our data frames to the workspace bucket). \n",
    "\n",
    "We will do some data processing and cleaning on our existing data frames including:\n",
    "* Create a new variable to designate which participants **have** and **do not have** diabetes \n",
    "* Combine the two dataframes into one dataframe\n",
    "* Calculate participant age based on the current date and their DOB and create a new variable called *age*\n",
    "* Select the final columns we want for our final dataframe we will analyze"
   ]
  },
  {
   "cell_type": "markdown",
   "metadata": {},
   "source": [
    "# Add the code snippet from the *All of Us R and Cloud Storage snippets*"
   ]
  },
  {
   "cell_type": "markdown",
   "metadata": {},
   "source": [
    "**Step 1: Run *Setup***"
   ]
  },
  {
   "cell_type": "code",
   "execution_count": null,
   "metadata": {
    "vscode": {
     "languageId": "r"
    }
   },
   "outputs": [],
   "source": [
    "library(tidyverse)  # Data wrangling packages."
   ]
  },
  {
   "cell_type": "markdown",
   "metadata": {},
   "source": [
    "**Step 2: Run the *copy_file_from_workspace_bucket.R* code snippet**\n",
    "\n",
    "This will import **diabetes_control_ptsd.csv** and **diabetes_study_ptsd.csv** as data frames\n",
    "\n",
    "**NOTE: You will have to add another line of code to each step to get both files imported**"
   ]
  },
  {
   "cell_type": "code",
   "execution_count": null,
   "metadata": {
    "vscode": {
     "languageId": "r"
    }
   },
   "outputs": [],
   "source": [
    "# This snippet assumes that you run setup first\n",
    "\n",
    "# This code copies a file from your Google Bucket into a dataframe\n",
    "\n",
    "# replace 'test.csv' with the name of the file in your google bucket (don't delete the quotation marks)\n",
    "diabetes_control_ptsd <- 'diabetes_control_ptsd.csv'\n",
    "diabetes_study_ptsd <- 'diabetes_study_ptsd.csv'\n",
    "\n",
    "########################################################################\n",
    "##\n",
    "################# DON'T CHANGE FROM HERE ###############################\n",
    "##\n",
    "#######################################################################\n",
    "\n",
    "# Get the bucket name\n",
    "my_bucket <- Sys.getenv('WORKSPACE_BUCKET')\n",
    "\n",
    "# Copy the file from current workspace to the bucket\n",
    "system(paste0(\"gsutil cp \", my_bucket, \"/data/\", diabetes_control_ptsd, \" .\"), intern=T)\n",
    "system(paste0(\"gsutil cp \", my_bucket, \"/data/\", diabetes_study_ptsd, \" .\"), intern=T)\n",
    "\n",
    "# Load the file into a dataframe\n",
    "diabetes_control_ptsd  <- read_csv(diabetes_control_ptsd)\n",
    "diabetes_study_ptsd  <- read_csv(diabetes_study_ptsd)\n",
    "\n",
    "head(diabetes_control_ptsd)\n",
    "head(diabetes_study_ptsd)"
   ]
  },
  {
   "cell_type": "markdown",
   "metadata": {},
   "source": [
    "# Clean and join the two dataframes"
   ]
  },
  {
   "cell_type": "markdown",
   "metadata": {},
   "source": [
    "**Step 1: Add new columns to each data frame called *diabetes* and include values based on diabetes status**\n",
    "\n",
    "We will use the mutate() function from the **dplyr** package to create new variables for each data frame."
   ]
  },
  {
   "cell_type": "code",
   "execution_count": null,
   "metadata": {
    "vscode": {
     "languageId": "r"
    }
   },
   "outputs": [],
   "source": [
    "library(dplyr)\n",
    "\n",
    "diabetes_no_ptsd <- diabetes_control_ptsd %>%\n",
    "  mutate(diabetes = \"No\")\n",
    "\n",
    "diabetes_yes_ptsd <- diabetes_study_ptsd%>%\n",
    "  mutate(diabetes = \"Yes\")\n",
    "\n",
    "dim(diabetes_no_ptsd)\n",
    "head(diabetes_no_ptsd)\n",
    "dim(diabetes_yes_ptsd)\n",
    "head(diabetes_yes_ptsd)"
   ]
  },
  {
   "cell_type": "markdown",
   "metadata": {},
   "source": [
    "**Step 2: Combine data frames and finalize dataset**\n",
    "\n",
    "We will use several functions from the **dplyr** package to create our final analysis-ready dataset:\n",
    "\n",
    "* Use the *bind_rows()* function to combine the diabetes_no_ptsd and diabetes_yes_ptsd data frames into one dataset\n",
    "* Use the *rename()* function to give shorter, more manageable names to the long PTSD survey question columns\n",
    "* Use the *mutate()* function to calculate participant age from their date of birth and create a new variable called *age*\n",
    "* Use the *select()* function to reorder columns and remove the original date_of_birth column since we now have the calculated age\n",
    "\n",
    "\n",
    "We use bind_rows() instead of a join function because the column names for each data frame are the same and in the same order, so we can simply stack the data together which is easier, cleaner, and has fewer potential errors"
   ]
  },
  {
   "cell_type": "code",
   "execution_count": null,
   "metadata": {
    "vscode": {
     "languageId": "r"
    }
   },
   "outputs": [],
   "source": [
    "final_diabetes_ptsd <- bind_rows(diabetes_no_ptsd, diabetes_yes_ptsd) %>%\n",
    "  rename(\n",
    "    ptsd_doctor = `Are you still seeing a doctor or health care provider for post-traumatic stress disorder (PTSD)?`,\n",
    "    ptsd_treatment = `Are you currently prescribed medications and/or receiving treatment for post-traumatic stress disorder (PTSD)?`\n",
    "  ) %>%\n",
    "  mutate(\n",
    "    age = floor(interval(ymd_hms(date_of_birth), today()) / years(1))\n",
    "  ) %>%\n",
    "select(person_id, age, everything(), -date_of_birth)\n",
    "\n",
    "\n",
    "\n",
    "dim(final_diabetes_ptsd)\n",
    "head(final_diabetes_ptsd)"
   ]
  },
  {
   "cell_type": "markdown",
   "metadata": {},
   "source": [
    "# Add the code snippet from the *All of Us R and Cloud Storage snippets*\n",
    "\n",
    "**Run the *copy_file_to_workspace_bucket.R* code snippet**"
   ]
  },
  {
   "cell_type": "code",
   "execution_count": null,
   "metadata": {
    "vscode": {
     "languageId": "r"
    }
   },
   "outputs": [],
   "source": [
    "# This snippet assumes that you run setup first\n",
    "\n",
    "# This code saves your dataframe into a csv file in a \"data\" folder in Google Bucket\n",
    "\n",
    "# Replace df with THE NAME OF YOUR DATAFRAME\n",
    "my_dataframe <- final_diabetes_ptsd\n",
    "\n",
    "# Replace 'test.csv' with THE NAME of the file you're going to store in the bucket (don't delete the quotation marks)\n",
    "destination_filename <- 'final_diabetes_ptsd.csv'\n",
    "\n",
    "########################################################################\n",
    "##\n",
    "################# DON'T CHANGE FROM HERE ###############################\n",
    "##\n",
    "########################################################################\n",
    "\n",
    "# store the dataframe in current workspace\n",
    "write_excel_csv(my_dataframe, destination_filename)\n",
    "\n",
    "# Get the bucket name\n",
    "my_bucket <- Sys.getenv('WORKSPACE_BUCKET')\n",
    "\n",
    "# Copy the file from current workspace to the bucket\n",
    "system(paste0(\"gsutil cp ./\", destination_filename, \" \", my_bucket, \"/data/\"), intern=T)\n",
    "\n",
    "# Check if file is in the bucket\n",
    "system(paste0(\"gsutil ls \", my_bucket, \"/data/*.csv\"), intern=T)\n"
   ]
  },
  {
   "cell_type": "code",
   "execution_count": null,
   "metadata": {
    "vscode": {
     "languageId": "r"
    }
   },
   "outputs": [],
   "source": []
  }
 ],
 "metadata": {
  "kernelspec": {
   "display_name": "R",
   "language": "R",
   "name": "ir"
  },
  "language_info": {
   "codemirror_mode": "r",
   "file_extension": ".r",
   "mimetype": "text/x-r-source",
   "name": "R",
   "pygments_lexer": "r",
   "version": "4.5.0"
  },
  "toc": {
   "base_numbering": 1,
   "nav_menu": {},
   "number_sections": true,
   "sideBar": true,
   "skip_h1_title": false,
   "title_cell": "Table of Contents",
   "title_sidebar": "Contents",
   "toc_cell": false,
   "toc_position": {},
   "toc_section_display": true,
   "toc_window_display": false
  }
 },
 "nbformat": 4,
 "nbformat_minor": 2
}
