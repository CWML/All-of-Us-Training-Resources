{
 "cells": [
  {
   "cell_type": "markdown",
   "metadata": {},
   "source": [
    "# Notebook File Overview\n",
    "\n",
    "In this notebook, we will be importing the data frames we created in the first two notebooks:\n",
    "1. diabetes_control_ptsd.csv\n",
    "2. diabetes_study_ptsd.csv\n",
    "\n",
    "We will use the code snippet provided by *All of Us* to import our data frames from the workspace bucket (looks similar to the snippet used to save our data frames to the workspace bucket). \n",
    "\n",
    "We will do some data processing and cleaning on our existing data frames including:\n",
    "* Create a new variable to designate which participants **have** and **do not have** diabetes \n",
    "* Combine the two dataframes into one dataframe\n",
    "* Calculate participant age based on the current date and their DOB and create a new variable called *age*\n",
    "* Select the final columns we want for our final dataframe we will analyze"
   ]
  },
  {
   "cell_type": "markdown",
   "metadata": {},
   "source": [
    "# Add the code snippet from the *All of Us R and Cloud Storage snippets*"
   ]
  },
  {
   "cell_type": "markdown",
   "metadata": {},
   "source": [
    "**Step 1: Run *Setup***"
   ]
  },
  {
   "cell_type": "code",
   "execution_count": 1,
   "metadata": {},
   "outputs": [
    {
     "name": "stderr",
     "output_type": "stream",
     "text": [
      "── \u001b[1mAttaching core tidyverse packages\u001b[22m ──────────────────────── tidyverse 2.0.0 ──\n",
      "\u001b[32m✔\u001b[39m \u001b[34mdplyr    \u001b[39m 1.1.4     \u001b[32m✔\u001b[39m \u001b[34mreadr    \u001b[39m 2.1.5\n",
      "\u001b[32m✔\u001b[39m \u001b[34mforcats  \u001b[39m 1.0.0     \u001b[32m✔\u001b[39m \u001b[34mstringr  \u001b[39m 1.5.1\n",
      "\u001b[32m✔\u001b[39m \u001b[34mggplot2  \u001b[39m 3.5.2     \u001b[32m✔\u001b[39m \u001b[34mtibble   \u001b[39m 3.2.1\n",
      "\u001b[32m✔\u001b[39m \u001b[34mlubridate\u001b[39m 1.9.4     \u001b[32m✔\u001b[39m \u001b[34mtidyr    \u001b[39m 1.3.1\n",
      "\u001b[32m✔\u001b[39m \u001b[34mpurrr    \u001b[39m 1.0.4     \n",
      "── \u001b[1mConflicts\u001b[22m ────────────────────────────────────────── tidyverse_conflicts() ──\n",
      "\u001b[31m✖\u001b[39m \u001b[34mdplyr\u001b[39m::\u001b[32mfilter()\u001b[39m masks \u001b[34mstats\u001b[39m::filter()\n",
      "\u001b[31m✖\u001b[39m \u001b[34mdplyr\u001b[39m::\u001b[32mlag()\u001b[39m    masks \u001b[34mstats\u001b[39m::lag()\n",
      "\u001b[36mℹ\u001b[39m Use the conflicted package (\u001b[3m\u001b[34m<http://conflicted.r-lib.org/>\u001b[39m\u001b[23m) to force all conflicts to become errors\n"
     ]
    }
   ],
   "source": [
    "library(tidyverse)  # Data wrangling packages."
   ]
  },
  {
   "cell_type": "markdown",
   "metadata": {},
   "source": [
    "**Step 2: Run the *copy_file_from_workspace_bucket.R* code snippet**\n",
    "\n",
    "This will import **diabetes_control_ptsd.csv** and **diabetes_study_ptsd.csv** as data frames\n",
    "\n",
    "**NOTE: You will have to add another line of code to each step to get both files imported**"
   ]
  },
  {
   "cell_type": "code",
   "execution_count": 2,
   "metadata": {},
   "outputs": [
    {
     "data": {
      "text/html": [],
      "text/latex": [],
      "text/markdown": [],
      "text/plain": [
       "character(0)"
      ]
     },
     "metadata": {},
     "output_type": "display_data"
    },
    {
     "data": {
      "text/html": [],
      "text/latex": [],
      "text/markdown": [],
      "text/plain": [
       "character(0)"
      ]
     },
     "metadata": {},
     "output_type": "display_data"
    },
    {
     "name": "stderr",
     "output_type": "stream",
     "text": [
      "\u001b[1mRows: \u001b[22m\u001b[34m9315\u001b[39m \u001b[1mColumns: \u001b[22m\u001b[34m7\u001b[39m\n",
      "\u001b[36m──\u001b[39m \u001b[1mColumn specification\u001b[22m \u001b[36m────────────────────────────────────────────────────────\u001b[39m\n",
      "\u001b[1mDelimiter:\u001b[22m \",\"\n",
      "\u001b[31mchr\u001b[39m (6): gender, date_of_birth, race, ethnicity, Are you currently prescribe...\n",
      "\u001b[32mdbl\u001b[39m (1): person_id\n",
      "\n",
      "\u001b[36mℹ\u001b[39m Use `spec()` to retrieve the full column specification for this data.\n",
      "\u001b[36mℹ\u001b[39m Specify the column types or set `show_col_types = FALSE` to quiet this message.\n",
      "\u001b[1mRows: \u001b[22m\u001b[34m659\u001b[39m \u001b[1mColumns: \u001b[22m\u001b[34m7\u001b[39m\n",
      "\u001b[36m──\u001b[39m \u001b[1mColumn specification\u001b[22m \u001b[36m────────────────────────────────────────────────────────\u001b[39m\n",
      "\u001b[1mDelimiter:\u001b[22m \",\"\n",
      "\u001b[31mchr\u001b[39m (6): gender, date_of_birth, race, ethnicity, Are you still seeing a doct...\n",
      "\u001b[32mdbl\u001b[39m (1): person_id\n",
      "\n",
      "\u001b[36mℹ\u001b[39m Use `spec()` to retrieve the full column specification for this data.\n",
      "\u001b[36mℹ\u001b[39m Specify the column types or set `show_col_types = FALSE` to quiet this message.\n"
     ]
    },
    {
     "data": {
      "text/html": [
       "<table class=\"dataframe\">\n",
       "<caption>A tibble: 6 × 7</caption>\n",
       "<thead>\n",
       "\t<tr><th scope=col>person_id</th><th scope=col>gender</th><th scope=col>date_of_birth</th><th scope=col>race</th><th scope=col>ethnicity</th><th scope=col>Are you currently prescribed medications and/or receiving treatment for post-traumatic stress disorder (PTSD)?</th><th scope=col>Are you still seeing a doctor or health care provider for post-traumatic stress disorder (PTSD)?</th></tr>\n",
       "\t<tr><th scope=col>&lt;dbl&gt;</th><th scope=col>&lt;chr&gt;</th><th scope=col>&lt;chr&gt;</th><th scope=col>&lt;chr&gt;</th><th scope=col>&lt;chr&gt;</th><th scope=col>&lt;chr&gt;</th><th scope=col>&lt;chr&gt;</th></tr>\n",
       "</thead>\n",
       "<tbody>\n",
       "\t<tr><td>6778627</td><td>Male  </td><td>1984-06-15 00:00:00 UTC</td><td>Asian</td><td>Hispanic or Latino</td><td>Yes</td><td>Yes</td></tr>\n",
       "\t<tr><td>1358081</td><td>Female</td><td>1991-06-15 00:00:00 UTC</td><td>Asian</td><td>Hispanic or Latino</td><td>Yes</td><td>Yes</td></tr>\n",
       "\t<tr><td>2684337</td><td>Female</td><td>1975-06-15 00:00:00 UTC</td><td>Asian</td><td>Hispanic or Latino</td><td>Yes</td><td>Yes</td></tr>\n",
       "\t<tr><td>2057156</td><td>Female</td><td>1991-06-15 00:00:00 UTC</td><td>Asian</td><td>Hispanic or Latino</td><td>No </td><td>No </td></tr>\n",
       "\t<tr><td>2991522</td><td>Female</td><td>1998-06-15 00:00:00 UTC</td><td>Asian</td><td>Hispanic or Latino</td><td>No </td><td>No </td></tr>\n",
       "\t<tr><td>9986364</td><td>Female</td><td>1991-06-15 00:00:00 UTC</td><td>Asian</td><td>Hispanic or Latino</td><td>No </td><td>Yes</td></tr>\n",
       "</tbody>\n",
       "</table>\n"
      ],
      "text/latex": [
       "A tibble: 6 × 7\n",
       "\\begin{tabular}{lllllll}\n",
       " person\\_id & gender & date\\_of\\_birth & race & ethnicity & Are you currently prescribed medications and/or receiving treatment for post-traumatic stress disorder (PTSD)? & Are you still seeing a doctor or health care provider for post-traumatic stress disorder (PTSD)?\\\\\n",
       " <dbl> & <chr> & <chr> & <chr> & <chr> & <chr> & <chr>\\\\\n",
       "\\hline\n",
       "\t 6778627 & Male   & 1984-06-15 00:00:00 UTC & Asian & Hispanic or Latino & Yes & Yes\\\\\n",
       "\t 1358081 & Female & 1991-06-15 00:00:00 UTC & Asian & Hispanic or Latino & Yes & Yes\\\\\n",
       "\t 2684337 & Female & 1975-06-15 00:00:00 UTC & Asian & Hispanic or Latino & Yes & Yes\\\\\n",
       "\t 2057156 & Female & 1991-06-15 00:00:00 UTC & Asian & Hispanic or Latino & No  & No \\\\\n",
       "\t 2991522 & Female & 1998-06-15 00:00:00 UTC & Asian & Hispanic or Latino & No  & No \\\\\n",
       "\t 9986364 & Female & 1991-06-15 00:00:00 UTC & Asian & Hispanic or Latino & No  & Yes\\\\\n",
       "\\end{tabular}\n"
      ],
      "text/markdown": [
       "\n",
       "A tibble: 6 × 7\n",
       "\n",
       "| person_id &lt;dbl&gt; | gender &lt;chr&gt; | date_of_birth &lt;chr&gt; | race &lt;chr&gt; | ethnicity &lt;chr&gt; | Are you currently prescribed medications and/or receiving treatment for post-traumatic stress disorder (PTSD)? &lt;chr&gt; | Are you still seeing a doctor or health care provider for post-traumatic stress disorder (PTSD)? &lt;chr&gt; |\n",
       "|---|---|---|---|---|---|---|\n",
       "| 6778627 | Male   | 1984-06-15 00:00:00 UTC | Asian | Hispanic or Latino | Yes | Yes |\n",
       "| 1358081 | Female | 1991-06-15 00:00:00 UTC | Asian | Hispanic or Latino | Yes | Yes |\n",
       "| 2684337 | Female | 1975-06-15 00:00:00 UTC | Asian | Hispanic or Latino | Yes | Yes |\n",
       "| 2057156 | Female | 1991-06-15 00:00:00 UTC | Asian | Hispanic or Latino | No  | No  |\n",
       "| 2991522 | Female | 1998-06-15 00:00:00 UTC | Asian | Hispanic or Latino | No  | No  |\n",
       "| 9986364 | Female | 1991-06-15 00:00:00 UTC | Asian | Hispanic or Latino | No  | Yes |\n",
       "\n"
      ],
      "text/plain": [
       "  person_id gender date_of_birth           race  ethnicity         \n",
       "1 6778627   Male   1984-06-15 00:00:00 UTC Asian Hispanic or Latino\n",
       "2 1358081   Female 1991-06-15 00:00:00 UTC Asian Hispanic or Latino\n",
       "3 2684337   Female 1975-06-15 00:00:00 UTC Asian Hispanic or Latino\n",
       "4 2057156   Female 1991-06-15 00:00:00 UTC Asian Hispanic or Latino\n",
       "5 2991522   Female 1998-06-15 00:00:00 UTC Asian Hispanic or Latino\n",
       "6 9986364   Female 1991-06-15 00:00:00 UTC Asian Hispanic or Latino\n",
       "  Are you currently prescribed medications and/or receiving treatment for post-traumatic stress disorder (PTSD)?\n",
       "1 Yes                                                                                                           \n",
       "2 Yes                                                                                                           \n",
       "3 Yes                                                                                                           \n",
       "4 No                                                                                                            \n",
       "5 No                                                                                                            \n",
       "6 No                                                                                                            \n",
       "  Are you still seeing a doctor or health care provider for post-traumatic stress disorder (PTSD)?\n",
       "1 Yes                                                                                             \n",
       "2 Yes                                                                                             \n",
       "3 Yes                                                                                             \n",
       "4 No                                                                                              \n",
       "5 No                                                                                              \n",
       "6 Yes                                                                                             "
      ]
     },
     "metadata": {},
     "output_type": "display_data"
    },
    {
     "data": {
      "text/html": [
       "<table class=\"dataframe\">\n",
       "<caption>A tibble: 6 × 7</caption>\n",
       "<thead>\n",
       "\t<tr><th scope=col>person_id</th><th scope=col>gender</th><th scope=col>date_of_birth</th><th scope=col>race</th><th scope=col>ethnicity</th><th scope=col>Are you still seeing a doctor or health care provider for post-traumatic stress disorder (PTSD)?</th><th scope=col>Are you currently prescribed medications and/or receiving treatment for post-traumatic stress disorder (PTSD)?</th></tr>\n",
       "\t<tr><th scope=col>&lt;dbl&gt;</th><th scope=col>&lt;chr&gt;</th><th scope=col>&lt;chr&gt;</th><th scope=col>&lt;chr&gt;</th><th scope=col>&lt;chr&gt;</th><th scope=col>&lt;chr&gt;</th><th scope=col>&lt;chr&gt;</th></tr>\n",
       "</thead>\n",
       "<tbody>\n",
       "\t<tr><td>1302288</td><td>Male  </td><td>1976-06-15 00:00:00 UTC</td><td>Asian                    </td><td>Hispanic or Latino</td><td>Yes</td><td>Yes</td></tr>\n",
       "\t<tr><td>2000298</td><td>Male  </td><td>1977-06-15 00:00:00 UTC</td><td>Asian                    </td><td>Hispanic or Latino</td><td>Yes</td><td>Yes</td></tr>\n",
       "\t<tr><td>1913213</td><td>Female</td><td>1986-06-15 00:00:00 UTC</td><td>Black or African American</td><td>Hispanic or Latino</td><td>Yes</td><td>No </td></tr>\n",
       "\t<tr><td>7661404</td><td>Female</td><td>1984-06-15 00:00:00 UTC</td><td>Black or African American</td><td>Hispanic or Latino</td><td>Yes</td><td>Yes</td></tr>\n",
       "\t<tr><td>2684487</td><td>Female</td><td>1991-06-15 00:00:00 UTC</td><td>Black or African American</td><td>Hispanic or Latino</td><td>No </td><td>No </td></tr>\n",
       "\t<tr><td>3425591</td><td>Female</td><td>1978-06-15 00:00:00 UTC</td><td>Black or African American</td><td>Hispanic or Latino</td><td>Yes</td><td>Yes</td></tr>\n",
       "</tbody>\n",
       "</table>\n"
      ],
      "text/latex": [
       "A tibble: 6 × 7\n",
       "\\begin{tabular}{lllllll}\n",
       " person\\_id & gender & date\\_of\\_birth & race & ethnicity & Are you still seeing a doctor or health care provider for post-traumatic stress disorder (PTSD)? & Are you currently prescribed medications and/or receiving treatment for post-traumatic stress disorder (PTSD)?\\\\\n",
       " <dbl> & <chr> & <chr> & <chr> & <chr> & <chr> & <chr>\\\\\n",
       "\\hline\n",
       "\t 1302288 & Male   & 1976-06-15 00:00:00 UTC & Asian                     & Hispanic or Latino & Yes & Yes\\\\\n",
       "\t 2000298 & Male   & 1977-06-15 00:00:00 UTC & Asian                     & Hispanic or Latino & Yes & Yes\\\\\n",
       "\t 1913213 & Female & 1986-06-15 00:00:00 UTC & Black or African American & Hispanic or Latino & Yes & No \\\\\n",
       "\t 7661404 & Female & 1984-06-15 00:00:00 UTC & Black or African American & Hispanic or Latino & Yes & Yes\\\\\n",
       "\t 2684487 & Female & 1991-06-15 00:00:00 UTC & Black or African American & Hispanic or Latino & No  & No \\\\\n",
       "\t 3425591 & Female & 1978-06-15 00:00:00 UTC & Black or African American & Hispanic or Latino & Yes & Yes\\\\\n",
       "\\end{tabular}\n"
      ],
      "text/markdown": [
       "\n",
       "A tibble: 6 × 7\n",
       "\n",
       "| person_id &lt;dbl&gt; | gender &lt;chr&gt; | date_of_birth &lt;chr&gt; | race &lt;chr&gt; | ethnicity &lt;chr&gt; | Are you still seeing a doctor or health care provider for post-traumatic stress disorder (PTSD)? &lt;chr&gt; | Are you currently prescribed medications and/or receiving treatment for post-traumatic stress disorder (PTSD)? &lt;chr&gt; |\n",
       "|---|---|---|---|---|---|---|\n",
       "| 1302288 | Male   | 1976-06-15 00:00:00 UTC | Asian                     | Hispanic or Latino | Yes | Yes |\n",
       "| 2000298 | Male   | 1977-06-15 00:00:00 UTC | Asian                     | Hispanic or Latino | Yes | Yes |\n",
       "| 1913213 | Female | 1986-06-15 00:00:00 UTC | Black or African American | Hispanic or Latino | Yes | No  |\n",
       "| 7661404 | Female | 1984-06-15 00:00:00 UTC | Black or African American | Hispanic or Latino | Yes | Yes |\n",
       "| 2684487 | Female | 1991-06-15 00:00:00 UTC | Black or African American | Hispanic or Latino | No  | No  |\n",
       "| 3425591 | Female | 1978-06-15 00:00:00 UTC | Black or African American | Hispanic or Latino | Yes | Yes |\n",
       "\n"
      ],
      "text/plain": [
       "  person_id gender date_of_birth           race                     \n",
       "1 1302288   Male   1976-06-15 00:00:00 UTC Asian                    \n",
       "2 2000298   Male   1977-06-15 00:00:00 UTC Asian                    \n",
       "3 1913213   Female 1986-06-15 00:00:00 UTC Black or African American\n",
       "4 7661404   Female 1984-06-15 00:00:00 UTC Black or African American\n",
       "5 2684487   Female 1991-06-15 00:00:00 UTC Black or African American\n",
       "6 3425591   Female 1978-06-15 00:00:00 UTC Black or African American\n",
       "  ethnicity         \n",
       "1 Hispanic or Latino\n",
       "2 Hispanic or Latino\n",
       "3 Hispanic or Latino\n",
       "4 Hispanic or Latino\n",
       "5 Hispanic or Latino\n",
       "6 Hispanic or Latino\n",
       "  Are you still seeing a doctor or health care provider for post-traumatic stress disorder (PTSD)?\n",
       "1 Yes                                                                                             \n",
       "2 Yes                                                                                             \n",
       "3 Yes                                                                                             \n",
       "4 Yes                                                                                             \n",
       "5 No                                                                                              \n",
       "6 Yes                                                                                             \n",
       "  Are you currently prescribed medications and/or receiving treatment for post-traumatic stress disorder (PTSD)?\n",
       "1 Yes                                                                                                           \n",
       "2 Yes                                                                                                           \n",
       "3 No                                                                                                            \n",
       "4 Yes                                                                                                           \n",
       "5 No                                                                                                            \n",
       "6 Yes                                                                                                           "
      ]
     },
     "metadata": {},
     "output_type": "display_data"
    }
   ],
   "source": [
    "# This snippet assumes that you run setup first\n",
    "\n",
    "# This code copies a file from your Google Bucket into a dataframe\n",
    "\n",
    "# replace 'test.csv' with the name of the file in your google bucket (don't delete the quotation marks)\n",
    "diabetes_control_ptsd <- 'diabetes_control_ptsd.csv'\n",
    "diabetes_study_ptsd <- 'diabetes_study_ptsd.csv'\n",
    "\n",
    "########################################################################\n",
    "##\n",
    "################# DON'T CHANGE FROM HERE ###############################\n",
    "##\n",
    "########################################################################\n",
    "\n",
    "# Get the bucket name\n",
    "my_bucket <- Sys.getenv('WORKSPACE_BUCKET')\n",
    "\n",
    "# Copy the file from current workspace to the bucket\n",
    "system(paste0(\"gsutil cp \", my_bucket, \"/data/\", diabetes_control_ptsd, \" .\"), intern=T)\n",
    "system(paste0(\"gsutil cp \", my_bucket, \"/data/\", diabetes_study_ptsd, \" .\"), intern=T)\n",
    "\n",
    "# Load the file into a dataframe\n",
    "diabetes_control_ptsd  <- read_csv(diabetes_control_ptsd)\n",
    "diabetes_study_ptsd  <- read_csv(diabetes_study_ptsd)\n",
    "\n",
    "head(diabetes_control_ptsd)\n",
    "head(diabetes_study_ptsd)"
   ]
  },
  {
   "cell_type": "markdown",
   "metadata": {},
   "source": [
    "# Clean and join the two dataframes"
   ]
  },
  {
   "cell_type": "markdown",
   "metadata": {},
   "source": [
    "**Step 1: Add new columns to each data frame called *diabetes* and include values based on diabetes status**\n",
    "\n",
    "We will use the mutate() function from the **dplyr** package to create new variables for each data frame."
   ]
  },
  {
   "cell_type": "code",
   "execution_count": 3,
   "metadata": {},
   "outputs": [
    {
     "data": {
      "text/html": [
       "<style>\n",
       ".list-inline {list-style: none; margin:0; padding: 0}\n",
       ".list-inline>li {display: inline-block}\n",
       ".list-inline>li:not(:last-child)::after {content: \"\\00b7\"; padding: 0 .5ex}\n",
       "</style>\n",
       "<ol class=list-inline><li>9315</li><li>8</li></ol>\n"
      ],
      "text/latex": [
       "\\begin{enumerate*}\n",
       "\\item 9315\n",
       "\\item 8\n",
       "\\end{enumerate*}\n"
      ],
      "text/markdown": [
       "1. 9315\n",
       "2. 8\n",
       "\n",
       "\n"
      ],
      "text/plain": [
       "[1] 9315    8"
      ]
     },
     "metadata": {},
     "output_type": "display_data"
    },
    {
     "data": {
      "text/html": [
       "<table class=\"dataframe\">\n",
       "<caption>A tibble: 6 × 8</caption>\n",
       "<thead>\n",
       "\t<tr><th scope=col>person_id</th><th scope=col>gender</th><th scope=col>date_of_birth</th><th scope=col>race</th><th scope=col>ethnicity</th><th scope=col>Are you currently prescribed medications and/or receiving treatment for post-traumatic stress disorder (PTSD)?</th><th scope=col>Are you still seeing a doctor or health care provider for post-traumatic stress disorder (PTSD)?</th><th scope=col>diabetes</th></tr>\n",
       "\t<tr><th scope=col>&lt;dbl&gt;</th><th scope=col>&lt;chr&gt;</th><th scope=col>&lt;chr&gt;</th><th scope=col>&lt;chr&gt;</th><th scope=col>&lt;chr&gt;</th><th scope=col>&lt;chr&gt;</th><th scope=col>&lt;chr&gt;</th><th scope=col>&lt;chr&gt;</th></tr>\n",
       "</thead>\n",
       "<tbody>\n",
       "\t<tr><td>6778627</td><td>Male  </td><td>1984-06-15 00:00:00 UTC</td><td>Asian</td><td>Hispanic or Latino</td><td>Yes</td><td>Yes</td><td>No</td></tr>\n",
       "\t<tr><td>1358081</td><td>Female</td><td>1991-06-15 00:00:00 UTC</td><td>Asian</td><td>Hispanic or Latino</td><td>Yes</td><td>Yes</td><td>No</td></tr>\n",
       "\t<tr><td>2684337</td><td>Female</td><td>1975-06-15 00:00:00 UTC</td><td>Asian</td><td>Hispanic or Latino</td><td>Yes</td><td>Yes</td><td>No</td></tr>\n",
       "\t<tr><td>2057156</td><td>Female</td><td>1991-06-15 00:00:00 UTC</td><td>Asian</td><td>Hispanic or Latino</td><td>No </td><td>No </td><td>No</td></tr>\n",
       "\t<tr><td>2991522</td><td>Female</td><td>1998-06-15 00:00:00 UTC</td><td>Asian</td><td>Hispanic or Latino</td><td>No </td><td>No </td><td>No</td></tr>\n",
       "\t<tr><td>9986364</td><td>Female</td><td>1991-06-15 00:00:00 UTC</td><td>Asian</td><td>Hispanic or Latino</td><td>No </td><td>Yes</td><td>No</td></tr>\n",
       "</tbody>\n",
       "</table>\n"
      ],
      "text/latex": [
       "A tibble: 6 × 8\n",
       "\\begin{tabular}{llllllll}\n",
       " person\\_id & gender & date\\_of\\_birth & race & ethnicity & Are you currently prescribed medications and/or receiving treatment for post-traumatic stress disorder (PTSD)? & Are you still seeing a doctor or health care provider for post-traumatic stress disorder (PTSD)? & diabetes\\\\\n",
       " <dbl> & <chr> & <chr> & <chr> & <chr> & <chr> & <chr> & <chr>\\\\\n",
       "\\hline\n",
       "\t 6778627 & Male   & 1984-06-15 00:00:00 UTC & Asian & Hispanic or Latino & Yes & Yes & No\\\\\n",
       "\t 1358081 & Female & 1991-06-15 00:00:00 UTC & Asian & Hispanic or Latino & Yes & Yes & No\\\\\n",
       "\t 2684337 & Female & 1975-06-15 00:00:00 UTC & Asian & Hispanic or Latino & Yes & Yes & No\\\\\n",
       "\t 2057156 & Female & 1991-06-15 00:00:00 UTC & Asian & Hispanic or Latino & No  & No  & No\\\\\n",
       "\t 2991522 & Female & 1998-06-15 00:00:00 UTC & Asian & Hispanic or Latino & No  & No  & No\\\\\n",
       "\t 9986364 & Female & 1991-06-15 00:00:00 UTC & Asian & Hispanic or Latino & No  & Yes & No\\\\\n",
       "\\end{tabular}\n"
      ],
      "text/markdown": [
       "\n",
       "A tibble: 6 × 8\n",
       "\n",
       "| person_id &lt;dbl&gt; | gender &lt;chr&gt; | date_of_birth &lt;chr&gt; | race &lt;chr&gt; | ethnicity &lt;chr&gt; | Are you currently prescribed medications and/or receiving treatment for post-traumatic stress disorder (PTSD)? &lt;chr&gt; | Are you still seeing a doctor or health care provider for post-traumatic stress disorder (PTSD)? &lt;chr&gt; | diabetes &lt;chr&gt; |\n",
       "|---|---|---|---|---|---|---|---|\n",
       "| 6778627 | Male   | 1984-06-15 00:00:00 UTC | Asian | Hispanic or Latino | Yes | Yes | No |\n",
       "| 1358081 | Female | 1991-06-15 00:00:00 UTC | Asian | Hispanic or Latino | Yes | Yes | No |\n",
       "| 2684337 | Female | 1975-06-15 00:00:00 UTC | Asian | Hispanic or Latino | Yes | Yes | No |\n",
       "| 2057156 | Female | 1991-06-15 00:00:00 UTC | Asian | Hispanic or Latino | No  | No  | No |\n",
       "| 2991522 | Female | 1998-06-15 00:00:00 UTC | Asian | Hispanic or Latino | No  | No  | No |\n",
       "| 9986364 | Female | 1991-06-15 00:00:00 UTC | Asian | Hispanic or Latino | No  | Yes | No |\n",
       "\n"
      ],
      "text/plain": [
       "  person_id gender date_of_birth           race  ethnicity         \n",
       "1 6778627   Male   1984-06-15 00:00:00 UTC Asian Hispanic or Latino\n",
       "2 1358081   Female 1991-06-15 00:00:00 UTC Asian Hispanic or Latino\n",
       "3 2684337   Female 1975-06-15 00:00:00 UTC Asian Hispanic or Latino\n",
       "4 2057156   Female 1991-06-15 00:00:00 UTC Asian Hispanic or Latino\n",
       "5 2991522   Female 1998-06-15 00:00:00 UTC Asian Hispanic or Latino\n",
       "6 9986364   Female 1991-06-15 00:00:00 UTC Asian Hispanic or Latino\n",
       "  Are you currently prescribed medications and/or receiving treatment for post-traumatic stress disorder (PTSD)?\n",
       "1 Yes                                                                                                           \n",
       "2 Yes                                                                                                           \n",
       "3 Yes                                                                                                           \n",
       "4 No                                                                                                            \n",
       "5 No                                                                                                            \n",
       "6 No                                                                                                            \n",
       "  Are you still seeing a doctor or health care provider for post-traumatic stress disorder (PTSD)?\n",
       "1 Yes                                                                                             \n",
       "2 Yes                                                                                             \n",
       "3 Yes                                                                                             \n",
       "4 No                                                                                              \n",
       "5 No                                                                                              \n",
       "6 Yes                                                                                             \n",
       "  diabetes\n",
       "1 No      \n",
       "2 No      \n",
       "3 No      \n",
       "4 No      \n",
       "5 No      \n",
       "6 No      "
      ]
     },
     "metadata": {},
     "output_type": "display_data"
    },
    {
     "data": {
      "text/html": [
       "<style>\n",
       ".list-inline {list-style: none; margin:0; padding: 0}\n",
       ".list-inline>li {display: inline-block}\n",
       ".list-inline>li:not(:last-child)::after {content: \"\\00b7\"; padding: 0 .5ex}\n",
       "</style>\n",
       "<ol class=list-inline><li>659</li><li>8</li></ol>\n"
      ],
      "text/latex": [
       "\\begin{enumerate*}\n",
       "\\item 659\n",
       "\\item 8\n",
       "\\end{enumerate*}\n"
      ],
      "text/markdown": [
       "1. 659\n",
       "2. 8\n",
       "\n",
       "\n"
      ],
      "text/plain": [
       "[1] 659   8"
      ]
     },
     "metadata": {},
     "output_type": "display_data"
    },
    {
     "data": {
      "text/html": [
       "<table class=\"dataframe\">\n",
       "<caption>A tibble: 6 × 8</caption>\n",
       "<thead>\n",
       "\t<tr><th scope=col>person_id</th><th scope=col>gender</th><th scope=col>date_of_birth</th><th scope=col>race</th><th scope=col>ethnicity</th><th scope=col>Are you still seeing a doctor or health care provider for post-traumatic stress disorder (PTSD)?</th><th scope=col>Are you currently prescribed medications and/or receiving treatment for post-traumatic stress disorder (PTSD)?</th><th scope=col>diabetes</th></tr>\n",
       "\t<tr><th scope=col>&lt;dbl&gt;</th><th scope=col>&lt;chr&gt;</th><th scope=col>&lt;chr&gt;</th><th scope=col>&lt;chr&gt;</th><th scope=col>&lt;chr&gt;</th><th scope=col>&lt;chr&gt;</th><th scope=col>&lt;chr&gt;</th><th scope=col>&lt;chr&gt;</th></tr>\n",
       "</thead>\n",
       "<tbody>\n",
       "\t<tr><td>1302288</td><td>Male  </td><td>1976-06-15 00:00:00 UTC</td><td>Asian                    </td><td>Hispanic or Latino</td><td>Yes</td><td>Yes</td><td>Yes</td></tr>\n",
       "\t<tr><td>2000298</td><td>Male  </td><td>1977-06-15 00:00:00 UTC</td><td>Asian                    </td><td>Hispanic or Latino</td><td>Yes</td><td>Yes</td><td>Yes</td></tr>\n",
       "\t<tr><td>1913213</td><td>Female</td><td>1986-06-15 00:00:00 UTC</td><td>Black or African American</td><td>Hispanic or Latino</td><td>Yes</td><td>No </td><td>Yes</td></tr>\n",
       "\t<tr><td>7661404</td><td>Female</td><td>1984-06-15 00:00:00 UTC</td><td>Black or African American</td><td>Hispanic or Latino</td><td>Yes</td><td>Yes</td><td>Yes</td></tr>\n",
       "\t<tr><td>2684487</td><td>Female</td><td>1991-06-15 00:00:00 UTC</td><td>Black or African American</td><td>Hispanic or Latino</td><td>No </td><td>No </td><td>Yes</td></tr>\n",
       "\t<tr><td>3425591</td><td>Female</td><td>1978-06-15 00:00:00 UTC</td><td>Black or African American</td><td>Hispanic or Latino</td><td>Yes</td><td>Yes</td><td>Yes</td></tr>\n",
       "</tbody>\n",
       "</table>\n"
      ],
      "text/latex": [
       "A tibble: 6 × 8\n",
       "\\begin{tabular}{llllllll}\n",
       " person\\_id & gender & date\\_of\\_birth & race & ethnicity & Are you still seeing a doctor or health care provider for post-traumatic stress disorder (PTSD)? & Are you currently prescribed medications and/or receiving treatment for post-traumatic stress disorder (PTSD)? & diabetes\\\\\n",
       " <dbl> & <chr> & <chr> & <chr> & <chr> & <chr> & <chr> & <chr>\\\\\n",
       "\\hline\n",
       "\t 1302288 & Male   & 1976-06-15 00:00:00 UTC & Asian                     & Hispanic or Latino & Yes & Yes & Yes\\\\\n",
       "\t 2000298 & Male   & 1977-06-15 00:00:00 UTC & Asian                     & Hispanic or Latino & Yes & Yes & Yes\\\\\n",
       "\t 1913213 & Female & 1986-06-15 00:00:00 UTC & Black or African American & Hispanic or Latino & Yes & No  & Yes\\\\\n",
       "\t 7661404 & Female & 1984-06-15 00:00:00 UTC & Black or African American & Hispanic or Latino & Yes & Yes & Yes\\\\\n",
       "\t 2684487 & Female & 1991-06-15 00:00:00 UTC & Black or African American & Hispanic or Latino & No  & No  & Yes\\\\\n",
       "\t 3425591 & Female & 1978-06-15 00:00:00 UTC & Black or African American & Hispanic or Latino & Yes & Yes & Yes\\\\\n",
       "\\end{tabular}\n"
      ],
      "text/markdown": [
       "\n",
       "A tibble: 6 × 8\n",
       "\n",
       "| person_id &lt;dbl&gt; | gender &lt;chr&gt; | date_of_birth &lt;chr&gt; | race &lt;chr&gt; | ethnicity &lt;chr&gt; | Are you still seeing a doctor or health care provider for post-traumatic stress disorder (PTSD)? &lt;chr&gt; | Are you currently prescribed medications and/or receiving treatment for post-traumatic stress disorder (PTSD)? &lt;chr&gt; | diabetes &lt;chr&gt; |\n",
       "|---|---|---|---|---|---|---|---|\n",
       "| 1302288 | Male   | 1976-06-15 00:00:00 UTC | Asian                     | Hispanic or Latino | Yes | Yes | Yes |\n",
       "| 2000298 | Male   | 1977-06-15 00:00:00 UTC | Asian                     | Hispanic or Latino | Yes | Yes | Yes |\n",
       "| 1913213 | Female | 1986-06-15 00:00:00 UTC | Black or African American | Hispanic or Latino | Yes | No  | Yes |\n",
       "| 7661404 | Female | 1984-06-15 00:00:00 UTC | Black or African American | Hispanic or Latino | Yes | Yes | Yes |\n",
       "| 2684487 | Female | 1991-06-15 00:00:00 UTC | Black or African American | Hispanic or Latino | No  | No  | Yes |\n",
       "| 3425591 | Female | 1978-06-15 00:00:00 UTC | Black or African American | Hispanic or Latino | Yes | Yes | Yes |\n",
       "\n"
      ],
      "text/plain": [
       "  person_id gender date_of_birth           race                     \n",
       "1 1302288   Male   1976-06-15 00:00:00 UTC Asian                    \n",
       "2 2000298   Male   1977-06-15 00:00:00 UTC Asian                    \n",
       "3 1913213   Female 1986-06-15 00:00:00 UTC Black or African American\n",
       "4 7661404   Female 1984-06-15 00:00:00 UTC Black or African American\n",
       "5 2684487   Female 1991-06-15 00:00:00 UTC Black or African American\n",
       "6 3425591   Female 1978-06-15 00:00:00 UTC Black or African American\n",
       "  ethnicity         \n",
       "1 Hispanic or Latino\n",
       "2 Hispanic or Latino\n",
       "3 Hispanic or Latino\n",
       "4 Hispanic or Latino\n",
       "5 Hispanic or Latino\n",
       "6 Hispanic or Latino\n",
       "  Are you still seeing a doctor or health care provider for post-traumatic stress disorder (PTSD)?\n",
       "1 Yes                                                                                             \n",
       "2 Yes                                                                                             \n",
       "3 Yes                                                                                             \n",
       "4 Yes                                                                                             \n",
       "5 No                                                                                              \n",
       "6 Yes                                                                                             \n",
       "  Are you currently prescribed medications and/or receiving treatment for post-traumatic stress disorder (PTSD)?\n",
       "1 Yes                                                                                                           \n",
       "2 Yes                                                                                                           \n",
       "3 No                                                                                                            \n",
       "4 Yes                                                                                                           \n",
       "5 No                                                                                                            \n",
       "6 Yes                                                                                                           \n",
       "  diabetes\n",
       "1 Yes     \n",
       "2 Yes     \n",
       "3 Yes     \n",
       "4 Yes     \n",
       "5 Yes     \n",
       "6 Yes     "
      ]
     },
     "metadata": {},
     "output_type": "display_data"
    }
   ],
   "source": [
    "library(dplyr)\n",
    "\n",
    "diabetes_no_ptsd <- diabetes_control_ptsd %>%\n",
    "  mutate(diabetes = \"No\")\n",
    "\n",
    "diabetes_yes_ptsd <- diabetes_study_ptsd%>%\n",
    "  mutate(diabetes = \"Yes\")\n",
    "\n",
    "dim(diabetes_no_ptsd)\n",
    "head(diabetes_no_ptsd)\n",
    "dim(diabetes_yes_ptsd)\n",
    "head(diabetes_yes_ptsd)"
   ]
  },
  {
   "cell_type": "markdown",
   "metadata": {},
   "source": [
    "**Step 2: Combine data frames and finalize dataset**\n",
    "\n",
    "We will use several functions from the **dplyr** package to create our final analysis-ready dataset:\n",
    "\n",
    "* Use the *bind_rows()* function to combine the diabetes_no_ptsd and diabetes_yes_ptsd data frames into one dataset\n",
    "* Use the *rename()* function to give shorter, more manageable names to the long PTSD survey question columns\n",
    "* Use the *mutate()* function to calculate participant age from their date of birth and create a new variable called *age*\n",
    "* Use the *select()* function to reorder columns and remove the original date_of_birth column since we now have the calculated age\n",
    "\n",
    "\n",
    "We use bind_rows() instead of a join function because the column names for each data frame are the same and in the same order, so we can simply stack the data together which is easier, cleaner, and has fewer potential errors"
   ]
  },
  {
   "cell_type": "code",
   "execution_count": 4,
   "metadata": {},
   "outputs": [
    {
     "data": {
      "text/html": [
       "<style>\n",
       ".list-inline {list-style: none; margin:0; padding: 0}\n",
       ".list-inline>li {display: inline-block}\n",
       ".list-inline>li:not(:last-child)::after {content: \"\\00b7\"; padding: 0 .5ex}\n",
       "</style>\n",
       "<ol class=list-inline><li>9974</li><li>8</li></ol>\n"
      ],
      "text/latex": [
       "\\begin{enumerate*}\n",
       "\\item 9974\n",
       "\\item 8\n",
       "\\end{enumerate*}\n"
      ],
      "text/markdown": [
       "1. 9974\n",
       "2. 8\n",
       "\n",
       "\n"
      ],
      "text/plain": [
       "[1] 9974    8"
      ]
     },
     "metadata": {},
     "output_type": "display_data"
    },
    {
     "data": {
      "text/html": [
       "<table class=\"dataframe\">\n",
       "<caption>A tibble: 6 × 8</caption>\n",
       "<thead>\n",
       "\t<tr><th scope=col>person_id</th><th scope=col>age</th><th scope=col>gender</th><th scope=col>race</th><th scope=col>ethnicity</th><th scope=col>ptsd_treatment</th><th scope=col>ptsd_doctor</th><th scope=col>diabetes</th></tr>\n",
       "\t<tr><th scope=col>&lt;dbl&gt;</th><th scope=col>&lt;dbl&gt;</th><th scope=col>&lt;chr&gt;</th><th scope=col>&lt;chr&gt;</th><th scope=col>&lt;chr&gt;</th><th scope=col>&lt;chr&gt;</th><th scope=col>&lt;chr&gt;</th><th scope=col>&lt;chr&gt;</th></tr>\n",
       "</thead>\n",
       "<tbody>\n",
       "\t<tr><td>6778627</td><td>41</td><td>Male  </td><td>Asian</td><td>Hispanic or Latino</td><td>Yes</td><td>Yes</td><td>No</td></tr>\n",
       "\t<tr><td>1358081</td><td>34</td><td>Female</td><td>Asian</td><td>Hispanic or Latino</td><td>Yes</td><td>Yes</td><td>No</td></tr>\n",
       "\t<tr><td>2684337</td><td>50</td><td>Female</td><td>Asian</td><td>Hispanic or Latino</td><td>Yes</td><td>Yes</td><td>No</td></tr>\n",
       "\t<tr><td>2057156</td><td>34</td><td>Female</td><td>Asian</td><td>Hispanic or Latino</td><td>No </td><td>No </td><td>No</td></tr>\n",
       "\t<tr><td>2991522</td><td>27</td><td>Female</td><td>Asian</td><td>Hispanic or Latino</td><td>No </td><td>No </td><td>No</td></tr>\n",
       "\t<tr><td>9986364</td><td>34</td><td>Female</td><td>Asian</td><td>Hispanic or Latino</td><td>No </td><td>Yes</td><td>No</td></tr>\n",
       "</tbody>\n",
       "</table>\n"
      ],
      "text/latex": [
       "A tibble: 6 × 8\n",
       "\\begin{tabular}{llllllll}\n",
       " person\\_id & age & gender & race & ethnicity & ptsd\\_treatment & ptsd\\_doctor & diabetes\\\\\n",
       " <dbl> & <dbl> & <chr> & <chr> & <chr> & <chr> & <chr> & <chr>\\\\\n",
       "\\hline\n",
       "\t 6778627 & 41 & Male   & Asian & Hispanic or Latino & Yes & Yes & No\\\\\n",
       "\t 1358081 & 34 & Female & Asian & Hispanic or Latino & Yes & Yes & No\\\\\n",
       "\t 2684337 & 50 & Female & Asian & Hispanic or Latino & Yes & Yes & No\\\\\n",
       "\t 2057156 & 34 & Female & Asian & Hispanic or Latino & No  & No  & No\\\\\n",
       "\t 2991522 & 27 & Female & Asian & Hispanic or Latino & No  & No  & No\\\\\n",
       "\t 9986364 & 34 & Female & Asian & Hispanic or Latino & No  & Yes & No\\\\\n",
       "\\end{tabular}\n"
      ],
      "text/markdown": [
       "\n",
       "A tibble: 6 × 8\n",
       "\n",
       "| person_id &lt;dbl&gt; | age &lt;dbl&gt; | gender &lt;chr&gt; | race &lt;chr&gt; | ethnicity &lt;chr&gt; | ptsd_treatment &lt;chr&gt; | ptsd_doctor &lt;chr&gt; | diabetes &lt;chr&gt; |\n",
       "|---|---|---|---|---|---|---|---|\n",
       "| 6778627 | 41 | Male   | Asian | Hispanic or Latino | Yes | Yes | No |\n",
       "| 1358081 | 34 | Female | Asian | Hispanic or Latino | Yes | Yes | No |\n",
       "| 2684337 | 50 | Female | Asian | Hispanic or Latino | Yes | Yes | No |\n",
       "| 2057156 | 34 | Female | Asian | Hispanic or Latino | No  | No  | No |\n",
       "| 2991522 | 27 | Female | Asian | Hispanic or Latino | No  | No  | No |\n",
       "| 9986364 | 34 | Female | Asian | Hispanic or Latino | No  | Yes | No |\n",
       "\n"
      ],
      "text/plain": [
       "  person_id age gender race  ethnicity          ptsd_treatment ptsd_doctor\n",
       "1 6778627   41  Male   Asian Hispanic or Latino Yes            Yes        \n",
       "2 1358081   34  Female Asian Hispanic or Latino Yes            Yes        \n",
       "3 2684337   50  Female Asian Hispanic or Latino Yes            Yes        \n",
       "4 2057156   34  Female Asian Hispanic or Latino No             No         \n",
       "5 2991522   27  Female Asian Hispanic or Latino No             No         \n",
       "6 9986364   34  Female Asian Hispanic or Latino No             Yes        \n",
       "  diabetes\n",
       "1 No      \n",
       "2 No      \n",
       "3 No      \n",
       "4 No      \n",
       "5 No      \n",
       "6 No      "
      ]
     },
     "metadata": {},
     "output_type": "display_data"
    }
   ],
   "source": [
    "final_diabetes_ptsd <- bind_rows(diabetes_no_ptsd, diabetes_yes_ptsd) %>%\n",
    "  rename(\n",
    "    ptsd_doctor = `Are you still seeing a doctor or health care provider for post-traumatic stress disorder (PTSD)?`,\n",
    "    ptsd_treatment = `Are you currently prescribed medications and/or receiving treatment for post-traumatic stress disorder (PTSD)?`\n",
    "  ) %>%\n",
    "  mutate(\n",
    "    age = floor(interval(ymd_hms(date_of_birth), today()) / years(1))\n",
    "  ) %>%\n",
    "select(person_id, age, everything(), -date_of_birth)\n",
    "\n",
    "\n",
    "\n",
    "dim(final_diabetes_ptsd)\n",
    "head(final_diabetes_ptsd)"
   ]
  },
  {
   "cell_type": "markdown",
   "metadata": {},
   "source": [
    "# Add the code snippet from the *All of Us R and Cloud Storage snippets*\n",
    "\n",
    "**Run the *copy_file_to_workspace_bucket.R* code snippet**"
   ]
  },
  {
   "cell_type": "code",
   "execution_count": 5,
   "metadata": {},
   "outputs": [
    {
     "data": {
      "text/html": [],
      "text/latex": [],
      "text/markdown": [],
      "text/plain": [
       "character(0)"
      ]
     },
     "metadata": {},
     "output_type": "display_data"
    },
    {
     "data": {
      "text/html": [
       "<style>\n",
       ".list-inline {list-style: none; margin:0; padding: 0}\n",
       ".list-inline>li {display: inline-block}\n",
       ".list-inline>li:not(:last-child)::after {content: \"\\00b7\"; padding: 0 .5ex}\n",
       "</style>\n",
       "<ol class=list-inline><li>'gs://fc-secure-ef51a80e-71e7-4b53-80c7-ed6ba790622a/data/diabetes_control_ptsd.csv'</li><li>'gs://fc-secure-ef51a80e-71e7-4b53-80c7-ed6ba790622a/data/diabetes_study_ptsd.csv'</li><li>'gs://fc-secure-ef51a80e-71e7-4b53-80c7-ed6ba790622a/data/final_diabetes_ptsd.csv'</li></ol>\n"
      ],
      "text/latex": [
       "\\begin{enumerate*}\n",
       "\\item 'gs://fc-secure-ef51a80e-71e7-4b53-80c7-ed6ba790622a/data/diabetes\\_control\\_ptsd.csv'\n",
       "\\item 'gs://fc-secure-ef51a80e-71e7-4b53-80c7-ed6ba790622a/data/diabetes\\_study\\_ptsd.csv'\n",
       "\\item 'gs://fc-secure-ef51a80e-71e7-4b53-80c7-ed6ba790622a/data/final\\_diabetes\\_ptsd.csv'\n",
       "\\end{enumerate*}\n"
      ],
      "text/markdown": [
       "1. 'gs://fc-secure-ef51a80e-71e7-4b53-80c7-ed6ba790622a/data/diabetes_control_ptsd.csv'\n",
       "2. 'gs://fc-secure-ef51a80e-71e7-4b53-80c7-ed6ba790622a/data/diabetes_study_ptsd.csv'\n",
       "3. 'gs://fc-secure-ef51a80e-71e7-4b53-80c7-ed6ba790622a/data/final_diabetes_ptsd.csv'\n",
       "\n",
       "\n"
      ],
      "text/plain": [
       "[1] \"gs://fc-secure-ef51a80e-71e7-4b53-80c7-ed6ba790622a/data/diabetes_control_ptsd.csv\"\n",
       "[2] \"gs://fc-secure-ef51a80e-71e7-4b53-80c7-ed6ba790622a/data/diabetes_study_ptsd.csv\"  \n",
       "[3] \"gs://fc-secure-ef51a80e-71e7-4b53-80c7-ed6ba790622a/data/final_diabetes_ptsd.csv\"  "
      ]
     },
     "metadata": {},
     "output_type": "display_data"
    }
   ],
   "source": [
    "# This snippet assumes that you run setup first\n",
    "\n",
    "# This code saves your dataframe into a csv file in a \"data\" folder in Google Bucket\n",
    "\n",
    "# Replace df with THE NAME OF YOUR DATAFRAME\n",
    "my_dataframe <- final_diabetes_ptsd\n",
    "\n",
    "# Replace 'test.csv' with THE NAME of the file you're going to store in the bucket (don't delete the quotation marks)\n",
    "destination_filename <- 'final_diabetes_ptsd.csv'\n",
    "\n",
    "########################################################################\n",
    "##\n",
    "################# DON'T CHANGE FROM HERE ###############################\n",
    "##\n",
    "########################################################################\n",
    "\n",
    "# store the dataframe in current workspace\n",
    "write_excel_csv(my_dataframe, destination_filename)\n",
    "\n",
    "# Get the bucket name\n",
    "my_bucket <- Sys.getenv('WORKSPACE_BUCKET')\n",
    "\n",
    "# Copy the file from current workspace to the bucket\n",
    "system(paste0(\"gsutil cp ./\", destination_filename, \" \", my_bucket, \"/data/\"), intern=T)\n",
    "\n",
    "# Check if file is in the bucket\n",
    "system(paste0(\"gsutil ls \", my_bucket, \"/data/*.csv\"), intern=T)\n"
   ]
  },
  {
   "cell_type": "code",
   "execution_count": null,
   "metadata": {},
   "outputs": [],
   "source": []
  }
 ],
 "metadata": {
  "kernelspec": {
   "display_name": "R",
   "language": "R",
   "name": "ir"
  },
  "language_info": {
   "codemirror_mode": "r",
   "file_extension": ".r",
   "mimetype": "text/x-r-source",
   "name": "R",
   "pygments_lexer": "r",
   "version": "4.5.0"
  },
  "toc": {
   "base_numbering": 1,
   "nav_menu": {},
   "number_sections": true,
   "sideBar": true,
   "skip_h1_title": false,
   "title_cell": "Table of Contents",
   "title_sidebar": "Contents",
   "toc_cell": false,
   "toc_position": {},
   "toc_section_display": true,
   "toc_window_display": false
  }
 },
 "nbformat": 4,
 "nbformat_minor": 2
}
