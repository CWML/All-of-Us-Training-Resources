{
 "cells": [
  {
   "cell_type": "markdown",
   "metadata": {},
   "source": [
    "# Notebook File Overview\n",
    "\n",
    "In this notebook, we will be importing the *final_diabetes_ptsd* data frame we created in the third notebook:\n",
    "\n",
    "We will use the code snippet provided by *All of Us* to import our data frames from the workspace bucket \n",
    "\n",
    "We will do some data processing, cleaning, and create a summary table, AKA a *Table 1*"
   ]
  },
  {
   "cell_type": "markdown",
   "metadata": {},
   "source": [
    "# Add the code snippet from the All of Us R and Cloud Storage snippets"
   ]
  },
  {
   "cell_type": "markdown",
   "metadata": {},
   "source": [
    "**Step 1: Run *Setup***"
   ]
  },
  {
   "cell_type": "code",
   "execution_count": 1,
   "metadata": {},
   "outputs": [
    {
     "name": "stderr",
     "output_type": "stream",
     "text": [
      "── \u001b[1mAttaching core tidyverse packages\u001b[22m ──────────────────────── tidyverse 2.0.0 ──\n",
      "\u001b[32m✔\u001b[39m \u001b[34mdplyr    \u001b[39m 1.1.4     \u001b[32m✔\u001b[39m \u001b[34mreadr    \u001b[39m 2.1.5\n",
      "\u001b[32m✔\u001b[39m \u001b[34mforcats  \u001b[39m 1.0.0     \u001b[32m✔\u001b[39m \u001b[34mstringr  \u001b[39m 1.5.1\n",
      "\u001b[32m✔\u001b[39m \u001b[34mggplot2  \u001b[39m 3.5.2     \u001b[32m✔\u001b[39m \u001b[34mtibble   \u001b[39m 3.2.1\n",
      "\u001b[32m✔\u001b[39m \u001b[34mlubridate\u001b[39m 1.9.4     \u001b[32m✔\u001b[39m \u001b[34mtidyr    \u001b[39m 1.3.1\n",
      "\u001b[32m✔\u001b[39m \u001b[34mpurrr    \u001b[39m 1.0.4     \n",
      "── \u001b[1mConflicts\u001b[22m ────────────────────────────────────────── tidyverse_conflicts() ──\n",
      "\u001b[31m✖\u001b[39m \u001b[34mdplyr\u001b[39m::\u001b[32mfilter()\u001b[39m masks \u001b[34mstats\u001b[39m::filter()\n",
      "\u001b[31m✖\u001b[39m \u001b[34mdplyr\u001b[39m::\u001b[32mlag()\u001b[39m    masks \u001b[34mstats\u001b[39m::lag()\n",
      "\u001b[36mℹ\u001b[39m Use the conflicted package (\u001b[3m\u001b[34m<http://conflicted.r-lib.org/>\u001b[39m\u001b[23m) to force all conflicts to become errors\n"
     ]
    }
   ],
   "source": [
    "library(tidyverse)  # Data wrangling packages."
   ]
  },
  {
   "cell_type": "markdown",
   "metadata": {},
   "source": [
    "**Step 2: Run the *copy_file_from_workspace_bucket.R* code snippet**\n",
    "\n",
    "This will import **final_diabetes_ptsd.csv**\n",
    "\n",
    "**NOTE: The new data frame will be called *my_dataframe***"
   ]
  },
  {
   "cell_type": "code",
   "execution_count": 2,
   "metadata": {},
   "outputs": [
    {
     "data": {
      "text/html": [],
      "text/latex": [],
      "text/markdown": [],
      "text/plain": [
       "character(0)"
      ]
     },
     "metadata": {},
     "output_type": "display_data"
    },
    {
     "name": "stderr",
     "output_type": "stream",
     "text": [
      "\u001b[1mRows: \u001b[22m\u001b[34m9974\u001b[39m \u001b[1mColumns: \u001b[22m\u001b[34m8\u001b[39m\n",
      "\u001b[36m──\u001b[39m \u001b[1mColumn specification\u001b[22m \u001b[36m────────────────────────────────────────────────────────\u001b[39m\n",
      "\u001b[1mDelimiter:\u001b[22m \",\"\n",
      "\u001b[31mchr\u001b[39m (6): gender, race, ethnicity, ptsd_doctor, ptsd_treatment, diabetes\n",
      "\u001b[32mdbl\u001b[39m (2): person_id, age\n",
      "\n",
      "\u001b[36mℹ\u001b[39m Use `spec()` to retrieve the full column specification for this data.\n",
      "\u001b[36mℹ\u001b[39m Specify the column types or set `show_col_types = FALSE` to quiet this message.\n"
     ]
    }
   ],
   "source": [
    "# This snippet assumes that you run setup first\n",
    "\n",
    "# This code copies a file from your Google Bucket into a dataframe\n",
    "\n",
    "# replace 'test.csv' with the name of the file in your google bucket (don't delete the quotation marks)\n",
    "name_of_file_in_bucket <- 'final_diabetes_ptsd.csv'\n",
    "\n",
    "########################################################################\n",
    "##\n",
    "################# DON'T CHANGE FROM HERE ###############################\n",
    "##\n",
    "########################################################################\n",
    "\n",
    "# Get the bucket name\n",
    "my_bucket <- Sys.getenv('WORKSPACE_BUCKET')\n",
    "\n",
    "# Copy the file from current workspace to the bucket\n",
    "system(paste0(\"gsutil cp \", my_bucket, \"/data/\", name_of_file_in_bucket, \" .\"), intern=T)\n",
    "\n",
    "# Load the file into a dataframe\n",
    "my_dataframe  <- read_csv(name_of_file_in_bucket)\n"
   ]
  },
  {
   "cell_type": "markdown",
   "metadata": {},
   "source": [
    "# Inspect data"
   ]
  },
  {
   "cell_type": "markdown",
   "metadata": {},
   "source": [
    "**Step 1: Use head() to see the first 6 rows of data**"
   ]
  },
  {
   "cell_type": "code",
   "execution_count": 3,
   "metadata": {},
   "outputs": [
    {
     "data": {
      "text/html": [
       "<table class=\"dataframe\">\n",
       "<caption>A tibble: 6 × 8</caption>\n",
       "<thead>\n",
       "\t<tr><th scope=col>person_id</th><th scope=col>age</th><th scope=col>gender</th><th scope=col>race</th><th scope=col>ethnicity</th><th scope=col>ptsd_doctor</th><th scope=col>ptsd_treatment</th><th scope=col>diabetes</th></tr>\n",
       "\t<tr><th scope=col>&lt;dbl&gt;</th><th scope=col>&lt;dbl&gt;</th><th scope=col>&lt;chr&gt;</th><th scope=col>&lt;chr&gt;</th><th scope=col>&lt;chr&gt;</th><th scope=col>&lt;chr&gt;</th><th scope=col>&lt;chr&gt;</th><th scope=col>&lt;chr&gt;</th></tr>\n",
       "</thead>\n",
       "<tbody>\n",
       "\t<tr><td>6778627</td><td>41</td><td>Male  </td><td>Asian</td><td>Hispanic or Latino</td><td>Yes</td><td>Yes</td><td>No</td></tr>\n",
       "\t<tr><td>1358081</td><td>34</td><td>Female</td><td>Asian</td><td>Hispanic or Latino</td><td>Yes</td><td>Yes</td><td>No</td></tr>\n",
       "\t<tr><td>2684337</td><td>50</td><td>Female</td><td>Asian</td><td>Hispanic or Latino</td><td>Yes</td><td>Yes</td><td>No</td></tr>\n",
       "\t<tr><td>2057156</td><td>34</td><td>Female</td><td>Asian</td><td>Hispanic or Latino</td><td>No </td><td>No </td><td>No</td></tr>\n",
       "\t<tr><td>2991522</td><td>27</td><td>Female</td><td>Asian</td><td>Hispanic or Latino</td><td>No </td><td>No </td><td>No</td></tr>\n",
       "\t<tr><td>9986364</td><td>34</td><td>Female</td><td>Asian</td><td>Hispanic or Latino</td><td>Yes</td><td>No </td><td>No</td></tr>\n",
       "</tbody>\n",
       "</table>\n"
      ],
      "text/latex": [
       "A tibble: 6 × 8\n",
       "\\begin{tabular}{llllllll}\n",
       " person\\_id & age & gender & race & ethnicity & ptsd\\_doctor & ptsd\\_treatment & diabetes\\\\\n",
       " <dbl> & <dbl> & <chr> & <chr> & <chr> & <chr> & <chr> & <chr>\\\\\n",
       "\\hline\n",
       "\t 6778627 & 41 & Male   & Asian & Hispanic or Latino & Yes & Yes & No\\\\\n",
       "\t 1358081 & 34 & Female & Asian & Hispanic or Latino & Yes & Yes & No\\\\\n",
       "\t 2684337 & 50 & Female & Asian & Hispanic or Latino & Yes & Yes & No\\\\\n",
       "\t 2057156 & 34 & Female & Asian & Hispanic or Latino & No  & No  & No\\\\\n",
       "\t 2991522 & 27 & Female & Asian & Hispanic or Latino & No  & No  & No\\\\\n",
       "\t 9986364 & 34 & Female & Asian & Hispanic or Latino & Yes & No  & No\\\\\n",
       "\\end{tabular}\n"
      ],
      "text/markdown": [
       "\n",
       "A tibble: 6 × 8\n",
       "\n",
       "| person_id &lt;dbl&gt; | age &lt;dbl&gt; | gender &lt;chr&gt; | race &lt;chr&gt; | ethnicity &lt;chr&gt; | ptsd_doctor &lt;chr&gt; | ptsd_treatment &lt;chr&gt; | diabetes &lt;chr&gt; |\n",
       "|---|---|---|---|---|---|---|---|\n",
       "| 6778627 | 41 | Male   | Asian | Hispanic or Latino | Yes | Yes | No |\n",
       "| 1358081 | 34 | Female | Asian | Hispanic or Latino | Yes | Yes | No |\n",
       "| 2684337 | 50 | Female | Asian | Hispanic or Latino | Yes | Yes | No |\n",
       "| 2057156 | 34 | Female | Asian | Hispanic or Latino | No  | No  | No |\n",
       "| 2991522 | 27 | Female | Asian | Hispanic or Latino | No  | No  | No |\n",
       "| 9986364 | 34 | Female | Asian | Hispanic or Latino | Yes | No  | No |\n",
       "\n"
      ],
      "text/plain": [
       "  person_id age gender race  ethnicity          ptsd_doctor ptsd_treatment\n",
       "1 6778627   41  Male   Asian Hispanic or Latino Yes         Yes           \n",
       "2 1358081   34  Female Asian Hispanic or Latino Yes         Yes           \n",
       "3 2684337   50  Female Asian Hispanic or Latino Yes         Yes           \n",
       "4 2057156   34  Female Asian Hispanic or Latino No          No            \n",
       "5 2991522   27  Female Asian Hispanic or Latino No          No            \n",
       "6 9986364   34  Female Asian Hispanic or Latino Yes         No            \n",
       "  diabetes\n",
       "1 No      \n",
       "2 No      \n",
       "3 No      \n",
       "4 No      \n",
       "5 No      \n",
       "6 No      "
      ]
     },
     "metadata": {},
     "output_type": "display_data"
    }
   ],
   "source": [
    "head(my_dataframe)"
   ]
  },
  {
   "cell_type": "markdown",
   "metadata": {},
   "source": [
    "**Step 2: Use str() to see the structure of the dataset**"
   ]
  },
  {
   "cell_type": "code",
   "execution_count": 4,
   "metadata": {},
   "outputs": [
    {
     "name": "stdout",
     "output_type": "stream",
     "text": [
      "spc_tbl_ [9,974 × 8] (S3: spec_tbl_df/tbl_df/tbl/data.frame)\n",
      " $ person_id     : num [1:9974] 6778627 1358081 2684337 2057156 2991522 ...\n",
      " $ age           : num [1:9974] 41 34 50 34 27 34 46 31 37 36 ...\n",
      " $ gender        : chr [1:9974] \"Male\" \"Female\" \"Female\" \"Female\" ...\n",
      " $ race          : chr [1:9974] \"Asian\" \"Asian\" \"Asian\" \"Asian\" ...\n",
      " $ ethnicity     : chr [1:9974] \"Hispanic or Latino\" \"Hispanic or Latino\" \"Hispanic or Latino\" \"Hispanic or Latino\" ...\n",
      " $ ptsd_doctor   : chr [1:9974] \"Yes\" \"Yes\" \"Yes\" \"No\" ...\n",
      " $ ptsd_treatment: chr [1:9974] \"Yes\" \"Yes\" \"Yes\" \"No\" ...\n",
      " $ diabetes      : chr [1:9974] \"No\" \"No\" \"No\" \"No\" ...\n",
      " - attr(*, \"spec\")=\n",
      "  .. cols(\n",
      "  ..   person_id = \u001b[32mcol_double()\u001b[39m,\n",
      "  ..   age = \u001b[32mcol_double()\u001b[39m,\n",
      "  ..   gender = \u001b[31mcol_character()\u001b[39m,\n",
      "  ..   race = \u001b[31mcol_character()\u001b[39m,\n",
      "  ..   ethnicity = \u001b[31mcol_character()\u001b[39m,\n",
      "  ..   ptsd_doctor = \u001b[31mcol_character()\u001b[39m,\n",
      "  ..   ptsd_treatment = \u001b[31mcol_character()\u001b[39m,\n",
      "  ..   diabetes = \u001b[31mcol_character()\u001b[39m\n",
      "  .. )\n",
      " - attr(*, \"problems\")=<externalptr> \n"
     ]
    }
   ],
   "source": [
    "str(my_dataframe)"
   ]
  },
  {
   "cell_type": "markdown",
   "metadata": {},
   "source": [
    "**Step 3: Make a quick table using *dplyr* funtions to see a summary fo the values of each column**"
   ]
  },
  {
   "cell_type": "code",
   "execution_count": 5,
   "metadata": {},
   "outputs": [
    {
     "data": {
      "text/html": [
       "<table class=\"dataframe\">\n",
       "<caption>A tibble: 15 × 3</caption>\n",
       "<thead>\n",
       "\t<tr><th scope=col>variable</th><th scope=col>value</th><th scope=col>n</th></tr>\n",
       "\t<tr><th scope=col>&lt;chr&gt;</th><th scope=col>&lt;chr&gt;</th><th scope=col>&lt;int&gt;</th></tr>\n",
       "</thead>\n",
       "<tbody>\n",
       "\t<tr><td>diabetes      </td><td>No                       </td><td>9315</td></tr>\n",
       "\t<tr><td>diabetes      </td><td>Yes                      </td><td> 659</td></tr>\n",
       "\t<tr><td>ethnicity     </td><td>Hispanic or Latino       </td><td> 563</td></tr>\n",
       "\t<tr><td>ethnicity     </td><td>Not Hispanic or Latino   </td><td>9411</td></tr>\n",
       "\t<tr><td>gender        </td><td>Female                   </td><td>8384</td></tr>\n",
       "\t<tr><td>gender        </td><td>Male                     </td><td>1590</td></tr>\n",
       "\t<tr><td>ptsd_doctor   </td><td>No                       </td><td>3788</td></tr>\n",
       "\t<tr><td>ptsd_doctor   </td><td>PMI: Skip                </td><td>  35</td></tr>\n",
       "\t<tr><td>ptsd_doctor   </td><td>Yes                      </td><td>6151</td></tr>\n",
       "\t<tr><td>ptsd_treatment</td><td>No                       </td><td>4983</td></tr>\n",
       "\t<tr><td>ptsd_treatment</td><td>PMI: Skip                </td><td>  49</td></tr>\n",
       "\t<tr><td>ptsd_treatment</td><td>Yes                      </td><td>4942</td></tr>\n",
       "\t<tr><td>race          </td><td>Asian                    </td><td> 205</td></tr>\n",
       "\t<tr><td>race          </td><td>Black or African American</td><td> 829</td></tr>\n",
       "\t<tr><td>race          </td><td>White                    </td><td>8940</td></tr>\n",
       "</tbody>\n",
       "</table>\n"
      ],
      "text/latex": [
       "A tibble: 15 × 3\n",
       "\\begin{tabular}{lll}\n",
       " variable & value & n\\\\\n",
       " <chr> & <chr> & <int>\\\\\n",
       "\\hline\n",
       "\t diabetes       & No                        & 9315\\\\\n",
       "\t diabetes       & Yes                       &  659\\\\\n",
       "\t ethnicity      & Hispanic or Latino        &  563\\\\\n",
       "\t ethnicity      & Not Hispanic or Latino    & 9411\\\\\n",
       "\t gender         & Female                    & 8384\\\\\n",
       "\t gender         & Male                      & 1590\\\\\n",
       "\t ptsd\\_doctor    & No                        & 3788\\\\\n",
       "\t ptsd\\_doctor    & PMI: Skip                 &   35\\\\\n",
       "\t ptsd\\_doctor    & Yes                       & 6151\\\\\n",
       "\t ptsd\\_treatment & No                        & 4983\\\\\n",
       "\t ptsd\\_treatment & PMI: Skip                 &   49\\\\\n",
       "\t ptsd\\_treatment & Yes                       & 4942\\\\\n",
       "\t race           & Asian                     &  205\\\\\n",
       "\t race           & Black or African American &  829\\\\\n",
       "\t race           & White                     & 8940\\\\\n",
       "\\end{tabular}\n"
      ],
      "text/markdown": [
       "\n",
       "A tibble: 15 × 3\n",
       "\n",
       "| variable &lt;chr&gt; | value &lt;chr&gt; | n &lt;int&gt; |\n",
       "|---|---|---|\n",
       "| diabetes       | No                        | 9315 |\n",
       "| diabetes       | Yes                       |  659 |\n",
       "| ethnicity      | Hispanic or Latino        |  563 |\n",
       "| ethnicity      | Not Hispanic or Latino    | 9411 |\n",
       "| gender         | Female                    | 8384 |\n",
       "| gender         | Male                      | 1590 |\n",
       "| ptsd_doctor    | No                        | 3788 |\n",
       "| ptsd_doctor    | PMI: Skip                 |   35 |\n",
       "| ptsd_doctor    | Yes                       | 6151 |\n",
       "| ptsd_treatment | No                        | 4983 |\n",
       "| ptsd_treatment | PMI: Skip                 |   49 |\n",
       "| ptsd_treatment | Yes                       | 4942 |\n",
       "| race           | Asian                     |  205 |\n",
       "| race           | Black or African American |  829 |\n",
       "| race           | White                     | 8940 |\n",
       "\n"
      ],
      "text/plain": [
       "   variable       value                     n   \n",
       "1  diabetes       No                        9315\n",
       "2  diabetes       Yes                        659\n",
       "3  ethnicity      Hispanic or Latino         563\n",
       "4  ethnicity      Not Hispanic or Latino    9411\n",
       "5  gender         Female                    8384\n",
       "6  gender         Male                      1590\n",
       "7  ptsd_doctor    No                        3788\n",
       "8  ptsd_doctor    PMI: Skip                   35\n",
       "9  ptsd_doctor    Yes                       6151\n",
       "10 ptsd_treatment No                        4983\n",
       "11 ptsd_treatment PMI: Skip                   49\n",
       "12 ptsd_treatment Yes                       4942\n",
       "13 race           Asian                      205\n",
       "14 race           Black or African American  829\n",
       "15 race           White                     8940"
      ]
     },
     "metadata": {},
     "output_type": "display_data"
    }
   ],
   "source": [
    "library(dplyr)\n",
    "\n",
    "# Quick summary of all categorical variables\n",
    "my_dataframe %>%\n",
    "  select(gender, race, ethnicity, ptsd_doctor, ptsd_treatment, diabetes) %>%\n",
    "  pivot_longer(everything(), names_to = \"variable\", values_to = \"value\") %>%\n",
    "  count(variable, value) %>%\n",
    "  arrange(variable)"
   ]
  },
  {
   "cell_type": "markdown",
   "metadata": {},
   "source": [
    "**FINDINGS: we need to get rid of *PMI: Skip* from each survey queestions and we need to add some *age-groups* to improve our analysis**"
   ]
  },
  {
   "cell_type": "markdown",
   "metadata": {},
   "source": [
    "## Clean data before create our *Table 1***"
   ]
  },
  {
   "cell_type": "markdown",
   "metadata": {},
   "source": [
    "**Step 1: Clean data - Drop *PMI: Skip* and create new varaible called *age_groups***\n",
    "\n",
    "Note: our age range for our cohort is 25 to 65 years old"
   ]
  },
  {
   "cell_type": "code",
   "execution_count": 6,
   "metadata": {
    "scrolled": true
   },
   "outputs": [
    {
     "data": {
      "text/html": [
       "<table class=\"dataframe\">\n",
       "<caption>A tibble: 6 × 9</caption>\n",
       "<thead>\n",
       "\t<tr><th scope=col>person_id</th><th scope=col>age</th><th scope=col>gender</th><th scope=col>race</th><th scope=col>ethnicity</th><th scope=col>ptsd_doctor</th><th scope=col>ptsd_treatment</th><th scope=col>diabetes</th><th scope=col>age_group</th></tr>\n",
       "\t<tr><th scope=col>&lt;dbl&gt;</th><th scope=col>&lt;dbl&gt;</th><th scope=col>&lt;chr&gt;</th><th scope=col>&lt;chr&gt;</th><th scope=col>&lt;chr&gt;</th><th scope=col>&lt;chr&gt;</th><th scope=col>&lt;chr&gt;</th><th scope=col>&lt;chr&gt;</th><th scope=col>&lt;fct&gt;</th></tr>\n",
       "</thead>\n",
       "<tbody>\n",
       "\t<tr><td>6778627</td><td>41</td><td>Male  </td><td>Asian</td><td>Hispanic or Latino</td><td>Yes</td><td>Yes</td><td>No</td><td>35-44</td></tr>\n",
       "\t<tr><td>1358081</td><td>34</td><td>Female</td><td>Asian</td><td>Hispanic or Latino</td><td>Yes</td><td>Yes</td><td>No</td><td>25-34</td></tr>\n",
       "\t<tr><td>2684337</td><td>50</td><td>Female</td><td>Asian</td><td>Hispanic or Latino</td><td>Yes</td><td>Yes</td><td>No</td><td>45-54</td></tr>\n",
       "\t<tr><td>2057156</td><td>34</td><td>Female</td><td>Asian</td><td>Hispanic or Latino</td><td>No </td><td>No </td><td>No</td><td>25-34</td></tr>\n",
       "\t<tr><td>2991522</td><td>27</td><td>Female</td><td>Asian</td><td>Hispanic or Latino</td><td>No </td><td>No </td><td>No</td><td>25-34</td></tr>\n",
       "\t<tr><td>9986364</td><td>34</td><td>Female</td><td>Asian</td><td>Hispanic or Latino</td><td>Yes</td><td>No </td><td>No</td><td>25-34</td></tr>\n",
       "</tbody>\n",
       "</table>\n"
      ],
      "text/latex": [
       "A tibble: 6 × 9\n",
       "\\begin{tabular}{lllllllll}\n",
       " person\\_id & age & gender & race & ethnicity & ptsd\\_doctor & ptsd\\_treatment & diabetes & age\\_group\\\\\n",
       " <dbl> & <dbl> & <chr> & <chr> & <chr> & <chr> & <chr> & <chr> & <fct>\\\\\n",
       "\\hline\n",
       "\t 6778627 & 41 & Male   & Asian & Hispanic or Latino & Yes & Yes & No & 35-44\\\\\n",
       "\t 1358081 & 34 & Female & Asian & Hispanic or Latino & Yes & Yes & No & 25-34\\\\\n",
       "\t 2684337 & 50 & Female & Asian & Hispanic or Latino & Yes & Yes & No & 45-54\\\\\n",
       "\t 2057156 & 34 & Female & Asian & Hispanic or Latino & No  & No  & No & 25-34\\\\\n",
       "\t 2991522 & 27 & Female & Asian & Hispanic or Latino & No  & No  & No & 25-34\\\\\n",
       "\t 9986364 & 34 & Female & Asian & Hispanic or Latino & Yes & No  & No & 25-34\\\\\n",
       "\\end{tabular}\n"
      ],
      "text/markdown": [
       "\n",
       "A tibble: 6 × 9\n",
       "\n",
       "| person_id &lt;dbl&gt; | age &lt;dbl&gt; | gender &lt;chr&gt; | race &lt;chr&gt; | ethnicity &lt;chr&gt; | ptsd_doctor &lt;chr&gt; | ptsd_treatment &lt;chr&gt; | diabetes &lt;chr&gt; | age_group &lt;fct&gt; |\n",
       "|---|---|---|---|---|---|---|---|---|\n",
       "| 6778627 | 41 | Male   | Asian | Hispanic or Latino | Yes | Yes | No | 35-44 |\n",
       "| 1358081 | 34 | Female | Asian | Hispanic or Latino | Yes | Yes | No | 25-34 |\n",
       "| 2684337 | 50 | Female | Asian | Hispanic or Latino | Yes | Yes | No | 45-54 |\n",
       "| 2057156 | 34 | Female | Asian | Hispanic or Latino | No  | No  | No | 25-34 |\n",
       "| 2991522 | 27 | Female | Asian | Hispanic or Latino | No  | No  | No | 25-34 |\n",
       "| 9986364 | 34 | Female | Asian | Hispanic or Latino | Yes | No  | No | 25-34 |\n",
       "\n"
      ],
      "text/plain": [
       "  person_id age gender race  ethnicity          ptsd_doctor ptsd_treatment\n",
       "1 6778627   41  Male   Asian Hispanic or Latino Yes         Yes           \n",
       "2 1358081   34  Female Asian Hispanic or Latino Yes         Yes           \n",
       "3 2684337   50  Female Asian Hispanic or Latino Yes         Yes           \n",
       "4 2057156   34  Female Asian Hispanic or Latino No          No            \n",
       "5 2991522   27  Female Asian Hispanic or Latino No          No            \n",
       "6 9986364   34  Female Asian Hispanic or Latino Yes         No            \n",
       "  diabetes age_group\n",
       "1 No       35-44    \n",
       "2 No       25-34    \n",
       "3 No       45-54    \n",
       "4 No       25-34    \n",
       "5 No       25-34    \n",
       "6 No       25-34    "
      ]
     },
     "metadata": {},
     "output_type": "display_data"
    }
   ],
   "source": [
    "my_table_one <- my_dataframe %>%\n",
    "  filter(ptsd_doctor != \"PMI: Skip\" & ptsd_treatment != \"PMI: Skip\") %>%\n",
    "  mutate(age_group = cut(age,\n",
    "                           breaks = c(25, 35, 45, 55, 65),\n",
    "                           labels = c(\"25-34\", \"35-44\", \"45-54\", \"55-64\"),\n",
    "                           right = FALSE,\n",
    "                           include.lowest = TRUE))\n",
    "\n",
    "head(my_table_one)"
   ]
  },
  {
   "cell_type": "markdown",
   "metadata": {},
   "source": [
    "**Step 2: Install and load the *tableone()* package**"
   ]
  },
  {
   "cell_type": "code",
   "execution_count": 7,
   "metadata": {},
   "outputs": [
    {
     "name": "stderr",
     "output_type": "stream",
     "text": [
      "\n",
      "Attaching package: ‘kableExtra’\n",
      "\n",
      "\n",
      "The following object is masked from ‘package:dplyr’:\n",
      "\n",
      "    group_rows\n",
      "\n",
      "\n"
     ]
    }
   ],
   "source": [
    "#install.packages(\"tableone\")\n",
    "library(tableone)\n",
    "\n",
    "#install.packages(\"kableExtra\")\n",
    "library(kableExtra)"
   ]
  },
  {
   "cell_type": "markdown",
   "metadata": {},
   "source": [
    "**Step 3: Create our *Table 1* using the *tableone()* and *kableone()* packages**\n",
    "\n",
    "Kable stands for **K**nitr T**able** which is a nicely formatted table"
   ]
  },
  {
   "cell_type": "code",
   "execution_count": 8,
   "metadata": {},
   "outputs": [
    {
     "data": {
      "text/plain": [
       "\n",
       "\n",
       "Table: Table 1. Baseline Characteristics by Diabetes Status\n",
       "\n",
       "|                                       |No           |Yes          |p      |test |\n",
       "|:--------------------------------------|:------------|:------------|:------|:----|\n",
       "|n                                      |9246         |650          |       |     |\n",
       "|age (mean (SD))                        |39.09 (6.88) |42.24 (6.10) |<0.001 |     |\n",
       "|age_group (%)                          |             |             |<0.001 |     |\n",
       "|25-34                                  |2567 (27.8)  |88 (13.5)    |       |     |\n",
       "|35-44                                  |4216 (45.6)  |275 (42.3)   |       |     |\n",
       "|45-54                                  |2463 (26.6)  |287 (44.2)   |       |     |\n",
       "|gender = Male (%)                      |1456 (15.7)  |120 (18.5)   |0.076  |     |\n",
       "|race (%)                               |             |             |<0.001 |     |\n",
       "|Asian                                  |191 ( 2.1)   |11 ( 1.7)    |       |     |\n",
       "|Black or African American              |734 ( 7.9)   |91 (14.0)    |       |     |\n",
       "|White                                  |8321 (90.0)  |548 (84.3)   |       |     |\n",
       "|ethnicity = Not Hispanic or Latino (%) |8719 (94.3)  |617 (94.9)   |0.564  |     |\n",
       "|ptsd_doctor = Yes (%)                  |5674 (61.4)  |452 (69.5)   |<0.001 |     |\n",
       "|ptsd_treatment = Yes (%)               |4526 (49.0)  |397 (61.1)   |<0.001 |     |"
      ]
     },
     "metadata": {},
     "output_type": "display_data"
    }
   ],
   "source": [
    "# Define variable types\n",
    "catVars <- c(\"age_group\", \"gender\", \"race\", \"ethnicity\", \"ptsd_doctor\", \"ptsd_treatment\")\n",
    "contVars <- c(\"age\")\n",
    "\n",
    "# Create stratified Table 1\n",
    "table1_stratified <- CreateTableOne(vars = c(contVars, catVars),\n",
    "                                   strata = \"diabetes\",\n",
    "                                   data = my_table_one,\n",
    "                                   factorVars = catVars)\n",
    "\n",
    "\n",
    "kableone(table1_stratified, caption = \"Table 1. Baseline Characteristics by Diabetes Status\")"
   ]
  },
  {
   "cell_type": "markdown",
   "metadata": {},
   "source": [
    "**Step 4: Save your new table to your Jupyter Notebook files to download locally later**\n",
    "\n",
    "Got to *File* then *Open*\n",
    "\n",
    "**NOTE: This saves your table as a *Tesxt* file (.txt)**\n",
    "\n",
    "other options:\n",
    "* .md\n",
    "* .markdown\n",
    "* .Rmd"
   ]
  },
  {
   "cell_type": "code",
   "execution_count": 9,
   "metadata": {},
   "outputs": [],
   "source": [
    "#Save tableone to your jupyter notebook files\n",
    "kable_output <- kableone(table1_stratified, \n",
    "                        caption = \"Table 1. Baseline Characteristics by Diabetes Status\")\n",
    "\n",
    "# Save as HTML\n",
    "kable_output %>%\n",
    "  save_kable(\"table1_baseline_characteristics.txt\")"
   ]
  }
 ],
 "metadata": {
  "kernelspec": {
   "display_name": "R",
   "language": "R",
   "name": "ir"
  },
  "language_info": {
   "codemirror_mode": "r",
   "file_extension": ".r",
   "mimetype": "text/x-r-source",
   "name": "R",
   "pygments_lexer": "r",
   "version": "4.5.0"
  },
  "toc": {
   "base_numbering": 1,
   "nav_menu": {},
   "number_sections": true,
   "sideBar": true,
   "skip_h1_title": false,
   "title_cell": "Table of Contents",
   "title_sidebar": "Contents",
   "toc_cell": false,
   "toc_position": {},
   "toc_section_display": true,
   "toc_window_display": false
  }
 },
 "nbformat": 4,
 "nbformat_minor": 2
}
