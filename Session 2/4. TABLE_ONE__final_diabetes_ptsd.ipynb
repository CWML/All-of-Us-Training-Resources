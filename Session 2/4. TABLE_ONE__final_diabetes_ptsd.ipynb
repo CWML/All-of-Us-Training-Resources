{
 "cells": [
  {
   "cell_type": "markdown",
   "metadata": {},
   "source": [
    "# Notebook File Overview\n",
    "\n",
    "In this notebook, we will be importing the *final_diabetes_ptsd* data frame we created in the third notebook:\n",
    "\n",
    "We will use the code snippet provided by *All of Us* to import our data frames from the workspace bucket \n",
    "\n",
    "We will do some data processing, cleaning, and create a summary table, AKA a *Table 1*"
   ]
  },
  {
   "cell_type": "markdown",
   "metadata": {},
   "source": [
    "# Add the code snippet from the All of Us R and Cloud Storage snippets"
   ]
  },
  {
   "cell_type": "markdown",
   "metadata": {},
   "source": [
    "**Step 1: Run *Setup***"
   ]
  },
  {
   "cell_type": "code",
   "execution_count": null,
   "metadata": {
    "vscode": {
     "languageId": "r"
    }
   },
   "outputs": [],
   "source": [
    "library(tidyverse)  # Data wrangling packages."
   ]
  },
  {
   "cell_type": "markdown",
   "metadata": {},
   "source": [
    "**Step 2: Run the *copy_file_from_workspace_bucket.R* code snippet**\n",
    "\n",
    "This will import **final_diabetes_ptsd.csv**\n",
    "\n",
    "**NOTE: The new data frame will be called *my_dataframe***"
   ]
  },
  {
   "cell_type": "code",
   "execution_count": null,
   "metadata": {
    "vscode": {
     "languageId": "r"
    }
   },
   "outputs": [],
   "source": [
    "# This snippet assumes that you run setup first\n",
    "\n",
    "# This code copies a file from your Google Bucket into a dataframe\n",
    "\n",
    "# replace 'test.csv' with the name of the file in your google bucket (don't delete the quotation marks)\n",
    "name_of_file_in_bucket <- 'final_diabetes_ptsd.csv'\n",
    "\n",
    "########################################################################\n",
    "##\n",
    "################# DON'T CHANGE FROM HERE ###############################\n",
    "##\n",
    "########################################################################\n",
    "\n",
    "# Get the bucket name\n",
    "my_bucket <- Sys.getenv('WORKSPACE_BUCKET')\n",
    "\n",
    "# Copy the file from current workspace to the bucket\n",
    "system(paste0(\"gsutil cp \", my_bucket, \"/data/\", name_of_file_in_bucket, \" .\"), intern=T)\n",
    "\n",
    "# Load the file into a dataframe\n",
    "my_dataframe  <- read_csv(name_of_file_in_bucket)\n"
   ]
  },
  {
   "cell_type": "markdown",
   "metadata": {},
   "source": [
    "# Inspect data"
   ]
  },
  {
   "cell_type": "markdown",
   "metadata": {},
   "source": [
    "**Step 1: Use head() to see the first 6 rows of data**"
   ]
  },
  {
   "cell_type": "code",
   "execution_count": null,
   "metadata": {
    "vscode": {
     "languageId": "r"
    }
   },
   "outputs": [],
   "source": [
    "head(my_dataframe)"
   ]
  },
  {
   "cell_type": "markdown",
   "metadata": {},
   "source": [
    "**Step 2: Use str() to see the structure of the dataset**"
   ]
  },
  {
   "cell_type": "code",
   "execution_count": null,
   "metadata": {
    "vscode": {
     "languageId": "r"
    }
   },
   "outputs": [],
   "source": [
    "str(my_dataframe)"
   ]
  },
  {
   "cell_type": "markdown",
   "metadata": {},
   "source": [
    "**Step 3: Make a quick table using *dplyr* funtions to see a summary fo the values of each column**"
   ]
  },
  {
   "cell_type": "code",
   "execution_count": null,
   "metadata": {
    "vscode": {
     "languageId": "r"
    }
   },
   "outputs": [],
   "source": [
    "library(dplyr)\n",
    "\n",
    "# Quick summary of all categorical variables\n",
    "my_dataframe %>%\n",
    "  select(gender, race, ethnicity, ptsd_doctor, ptsd_treatment, diabetes) %>%\n",
    "  pivot_longer(everything(), names_to = \"variable\", values_to = \"value\") %>%\n",
    "  count(variable, value) %>%\n",
    "  arrange(variable)"
   ]
  },
  {
   "cell_type": "markdown",
   "metadata": {},
   "source": [
    "**FINDINGS: we need to get rid of *PMI: Skip* from each survey queestions and we need to add some *age-groups* to improve our analysis**"
   ]
  },
  {
   "cell_type": "markdown",
   "metadata": {},
   "source": [
    "## Clean data before create our *Table 1***"
   ]
  },
  {
   "cell_type": "markdown",
   "metadata": {},
   "source": [
    "**Step 1: Clean data - Drop *PMI: Skip* and create new varaible called *age_groups***\n",
    "\n",
    "Note: our age range for our cohort is 25 to 65 years old"
   ]
  },
  {
   "cell_type": "code",
   "execution_count": null,
   "metadata": {
    "scrolled": true,
    "vscode": {
     "languageId": "r"
    }
   },
   "outputs": [],
   "source": [
    "my_table_one <- my_dataframe %>%\n",
    "  filter(ptsd_doctor != \"PMI: Skip\" & ptsd_treatment != \"PMI: Skip\") %>%\n",
    "  mutate(age_group = cut(age,\n",
    "                           breaks = c(25, 35, 45, 55, 65),\n",
    "                           labels = c(\"25-34\", \"35-44\", \"45-54\", \"55-64\"),\n",
    "                           right = FALSE,\n",
    "                           include.lowest = TRUE))\n",
    "\n",
    "head(my_table_one)"
   ]
  },
  {
   "cell_type": "markdown",
   "metadata": {},
   "source": [
    "**Step 2: Install and load the *tableone()* package**"
   ]
  },
  {
   "cell_type": "code",
   "execution_count": null,
   "metadata": {
    "vscode": {
     "languageId": "r"
    }
   },
   "outputs": [],
   "source": [
    "#install.packages(\"tableone\")\n",
    "library(tableone)\n",
    "\n",
    "#install.packages(\"kableExtra\")\n",
    "library(kableExtra)"
   ]
  },
  {
   "cell_type": "markdown",
   "metadata": {},
   "source": [
    "**Step 3: Create our *Table 1* using the *tableone()* and *kableone()* packages**\n",
    "\n",
    "Kable stands for **K**nitr T**able** which is a nicely formatted table"
   ]
  },
  {
   "cell_type": "code",
   "execution_count": null,
   "metadata": {
    "vscode": {
     "languageId": "r"
    }
   },
   "outputs": [],
   "source": [
    "# Define variable types\n",
    "catVars <- c(\"age_group\", \"gender\", \"race\", \"ethnicity\", \"ptsd_doctor\", \"ptsd_treatment\")\n",
    "contVars <- c(\"age\")\n",
    "\n",
    "# Create stratified Table 1\n",
    "table1_stratified <- CreateTableOne(vars = c(contVars, catVars),\n",
    "                                   strata = \"diabetes\",\n",
    "                                   data = my_table_one,\n",
    "                                   factorVars = catVars)\n",
    "\n",
    "\n",
    "kableone(table1_stratified, caption = \"Table 1. Baseline Characteristics by Diabetes Status\")"
   ]
  },
  {
   "cell_type": "markdown",
   "metadata": {},
   "source": [
    "**Step 4: Save your new table to your Jupyter Notebook files to download locally later**\n",
    "\n",
    "Got to *File* then *Open*\n",
    "\n",
    "**NOTE: This saves your table as a *Tesxt* file (.txt)**\n",
    "\n",
    "other options:\n",
    "* .md\n",
    "* .markdown\n",
    "* .Rmd"
   ]
  },
  {
   "cell_type": "code",
   "execution_count": 9,
   "metadata": {
    "vscode": {
     "languageId": "r"
    }
   },
   "outputs": [],
   "source": [
    "#Save tableone to your jupyter notebook files\n",
    "kable_output <- kableone(table1_stratified, \n",
    "                        caption = \"Table 1. Baseline Characteristics by Diabetes Status\")\n",
    "\n",
    "# Save as HTML\n",
    "kable_output %>%\n",
    "  save_kable(\"table1_baseline_characteristics.txt\")"
   ]
  }
 ],
 "metadata": {
  "kernelspec": {
   "display_name": "R",
   "language": "R",
   "name": "ir"
  },
  "language_info": {
   "codemirror_mode": "r",
   "file_extension": ".r",
   "mimetype": "text/x-r-source",
   "name": "R",
   "pygments_lexer": "r",
   "version": "4.5.0"
  },
  "toc": {
   "base_numbering": 1,
   "nav_menu": {},
   "number_sections": true,
   "sideBar": true,
   "skip_h1_title": false,
   "title_cell": "Table of Contents",
   "title_sidebar": "Contents",
   "toc_cell": false,
   "toc_position": {},
   "toc_section_display": true,
   "toc_window_display": false
  }
 },
 "nbformat": 4,
 "nbformat_minor": 2
}
